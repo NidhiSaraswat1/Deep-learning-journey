{
 "cells": [
  {
   "cell_type": "code",
   "execution_count": 1,
   "id": "0343e1f2-b709-4121-8f68-f912e546dc46",
   "metadata": {},
   "outputs": [],
   "source": [
    "import numpy as np"
   ]
  },
  {
   "cell_type": "markdown",
   "id": "5a7b8271-f332-4a27-a59e-db6605387a12",
   "metadata": {},
   "source": [
    "# Sigmoid perceptron class"
   ]
  },
  {
   "cell_type": "code",
   "execution_count": 4,
   "id": "3fd6044e-d1ef-467a-b933-c218df0b6877",
   "metadata": {},
   "outputs": [],
   "source": [
    "class SigmoidPerceptron():\n",
    "    \n",
    "    def __init__(self,input_size):\n",
    "        # this will generate the same number of data as the feature numbers\n",
    "        self.weights = np.random.randn(input_size)\n",
    "        self.bias = np.random.randn(1)\n",
    "\n",
    "\n",
    "    def sigmoid(self,z):\n",
    "        return 1/(1 + np.exp(-z))\n",
    "\n",
    "\n",
    "    def predict(self,inputs):\n",
    "        #  here we are doing dot of vector and the output will be a scalar\n",
    "        weighted_sum = np.dot(inputs, self.weights) + self.bias\n",
    "        return self.sigmoid(weighted_sum)\n",
    "\n",
    "\n",
    "    def fit(self, inputs, targets, learning_rate, num_epochs):\n",
    "        num_examples = inputs.shape[0]\n",
    "#  here we are using stochastic gradient descent where we are going to train each example with each epoch.\n",
    "        for epoch in range(num_epochs):\n",
    "            \n",
    "            for i in range(num_examples):\n",
    "                input_vector = inputs[i]\n",
    "                target = targets[i]\n",
    "                prediction = self.predict(input_vector)\n",
    "                error = target - prediction\n",
    "\n",
    "            # Update weights\n",
    "            gradient_weights = error * prediction * (1-prediction)* input_vector\n",
    "            self.weights += learning_rate * gradient_weights\n",
    "\n",
    "            # update bias\n",
    "            gradient_bias = error * prediction *(1 - prediction)\n",
    "            self.bias += learning_rate * gradient_bias \n",
    "\n",
    "\n",
    "\n",
    "    def evaluate(self,inputs, target):\n",
    "\n",
    "        correct = 0\n",
    "        for input_vector, target in zip(inputs,target):\n",
    "            prediction = self.predict(input_vector)\n",
    "\n",
    "            if prediction >= 0.5:\n",
    "                predicted_class = 1\n",
    "\n",
    "            else:\n",
    "                predicted_class = 0\n",
    "\n",
    "            if predicted_class == target:\n",
    "                correct =+ 1 \n",
    "\n",
    "            accuracy = correct / len(inputs)\n",
    "            return accuracy\n",
    "        "
   ]
  },
  {
   "cell_type": "code",
   "execution_count": 7,
   "id": "f27a0ab4-ab43-4109-9fa9-8310ddbeaa0d",
   "metadata": {},
   "outputs": [],
   "source": [
    "model = SigmoidPerceptron(10)\n"
   ]
  },
  {
   "cell_type": "code",
   "execution_count": 3,
   "id": "414a876d-b80a-4c74-8283-deff5b4763e0",
   "metadata": {},
   "outputs": [
    {
     "name": "stdout",
     "output_type": "stream",
     "text": [
      "10 0.2\n",
      "20 0.3\n",
      "30 0.4\n"
     ]
    }
   ],
   "source": [
    "list1 = [10,20,30]\n",
    "list2 = [0.2,0.3,0.4]\n",
    "for val1,val2 in zip(list1,list2):\n",
    "    print(val1,val2)\n",
    "    "
   ]
  },
  {
   "cell_type": "code",
   "execution_count": null,
   "id": "0611f07f-f99d-4e66-ad73-6699c1ddd003",
   "metadata": {},
   "outputs": [],
   "source": []
  },
  {
   "cell_type": "code",
   "execution_count": null,
   "id": "c71a474a-9dee-4c9a-a502-d60f56c1d8cc",
   "metadata": {},
   "outputs": [],
   "source": []
  }
 ],
 "metadata": {
  "kernelspec": {
   "display_name": "Python 3 (ipykernel)",
   "language": "python",
   "name": "python3"
  },
  "language_info": {
   "codemirror_mode": {
    "name": "ipython",
    "version": 3
   },
   "file_extension": ".py",
   "mimetype": "text/x-python",
   "name": "python",
   "nbconvert_exporter": "python",
   "pygments_lexer": "ipython3",
   "version": "3.12.4"
  }
 },
 "nbformat": 4,
 "nbformat_minor": 5
}
