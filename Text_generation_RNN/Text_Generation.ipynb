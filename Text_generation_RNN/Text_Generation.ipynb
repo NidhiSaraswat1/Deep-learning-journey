{
 "cells": [
  {
   "cell_type": "code",
   "execution_count": 4,
   "id": "732da131-2013-472d-94d4-b833c1ced31a",
   "metadata": {},
   "outputs": [],
   "source": [
    "# Necessary Libraries \n",
    "import numpy as np\n",
    "import keras\n",
    "import random\n",
    "from tensorflow.keras.models import Sequential\n",
    "from keras.layers import Dense,Activation,LSTM,Dropout\n",
    "from keras.optimizers import RMSprop\n",
    "from keras.utils import get_file"
   ]
  },
  {
   "cell_type": "code",
   "execution_count": 6,
   "id": "dc6ed879-5e70-4c49-8733-7738ef99561f",
   "metadata": {},
   "outputs": [
    {
     "name": "stdout",
     "output_type": "stream",
     "text": [
      "given script has581877characters\n"
     ]
    }
   ],
   "source": [
    "text = open(\"SherlockHolmes.txt\").read().lower()\n",
    "print(\"given script has\"+str(len(text))+'characters')"
   ]
  },
  {
   "cell_type": "code",
   "execution_count": 7,
   "id": "de145060-39c7-448c-bee2-842541992c4e",
   "metadata": {},
   "outputs": [
    {
     "name": "stdout",
     "output_type": "stream",
     "text": [
      "{'b', 'l', 'f', 'w', 'n', 'd', 'h', 'r', 'm', ' ', 'v', 'y', 'p', 'i', ',', 'a', 's', 'o', 'e', 'q', 'z', '¨', 'c', 'x', \"'\", 'k', 'u', 'g', 'j', 't'}\n"
     ]
    }
   ],
   "source": [
    "text = text[1302:]\n",
    "for ch in ['0','1', '2', '3', '4', '5', '6', '7', '8', '9', '!', '\"', '$', '%', '&', '~', '`', '(', ')', '*',\n",
    "          '-', '/', ';', '@', '?', ':', '©', '¢', 'ã', '\\xa0', '\\n', '\\r', '.']:\n",
    "       if ch in text:\n",
    "             text=text.replace(ch,' ')\n",
    "print(set(text))     "
   ]
  },
  {
   "cell_type": "raw",
   "id": "ed6031de-74af-4f54-9fcf-8fae4942c12e",
   "metadata": {},
   "source": [
    "Now, we can create a sliding window function in which all the characters inside the window are treated as input and the following character is treated as output. We use the window size of 50 and step size as 3."
   ]
  },
  {
   "cell_type": "code",
   "execution_count": 9,
   "id": "c0679270-b88c-4e4a-a417-634a6e4da03e",
   "metadata": {},
   "outputs": [],
   "source": [
    "def window_transform(text,window_size,step_size):\n",
    "    inputs=[]\n",
    "    outputs=[]\n",
    "    n_batches = int((len(text)-window_size) / step_size)    \n",
    "    for i in range(n_batches-1):\n",
    "        a = text[i * step_size:((i*step_size) + window_size)]\n",
    "        inputs.append(a)\n",
    "        b = text[(i*step_size)+window_size]\n",
    "        outputs.append(b)\n",
    "    return inputs,outputs\n",
    "\n",
    "# calling window function\n",
    "window_size=50\n",
    "step_size=3\n",
    "inputs,outputs=window_transform(text,window_size,step_size)"
   ]
  },
  {
   "cell_type": "code",
   "execution_count": 11,
   "id": "4ca76b1f-022e-40fe-8a2b-4651dddb54b7",
   "metadata": {},
   "outputs": [
    {
     "data": {
      "text/plain": [
       "('caine and ambition, the drowsiness of the drug, an', 'd')"
      ]
     },
     "execution_count": 11,
     "metadata": {},
     "output_type": "execute_result"
    }
   ],
   "source": [
    "inputs[502],outputs[502]"
   ]
  },
  {
   "cell_type": "code",
   "execution_count": null,
   "id": "bf347a3d-1f08-4b94-b621-200d64302946",
   "metadata": {},
   "outputs": [],
   "source": []
  }
 ],
 "metadata": {
  "kernelspec": {
   "display_name": "Python 3 (ipykernel)",
   "language": "python",
   "name": "python3"
  },
  "language_info": {
   "codemirror_mode": {
    "name": "ipython",
    "version": 3
   },
   "file_extension": ".py",
   "mimetype": "text/x-python",
   "name": "python",
   "nbconvert_exporter": "python",
   "pygments_lexer": "ipython3",
   "version": "3.12.10"
  }
 },
 "nbformat": 4,
 "nbformat_minor": 5
}
