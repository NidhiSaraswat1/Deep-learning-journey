{
 "cells": [
  {
   "cell_type": "code",
   "execution_count": 3,
   "id": "fdfb3ea1-b248-4634-8c06-9eaa3414f4ae",
   "metadata": {},
   "outputs": [],
   "source": [
    "# Importing Libraries\n",
    "import keras\n",
    "import numpy as np\n",
    "import pandas as pd\n",
    "import matplotlib.pyplot as plt\n",
    "from sklearn.preprocessing import MinMaxScaler\n",
    "from sklearn.metrics import mean_squared_error\n",
    "from tensorflow.keras.models import Sequential\n",
    "from tensorflow.keras.layers import LSTM, Dense, Dropout, Activation\n"
   ]
  },
  {
   "cell_type": "code",
   "execution_count": 4,
   "id": "fc1e8f13-f457-4e0e-a0e5-25472a9e7cf8",
   "metadata": {},
   "outputs": [
    {
     "data": {
      "text/html": [
       "<div>\n",
       "<style scoped>\n",
       "    .dataframe tbody tr th:only-of-type {\n",
       "        vertical-align: middle;\n",
       "    }\n",
       "\n",
       "    .dataframe tbody tr th {\n",
       "        vertical-align: top;\n",
       "    }\n",
       "\n",
       "    .dataframe thead th {\n",
       "        text-align: right;\n",
       "    }\n",
       "</style>\n",
       "<table border=\"1\" class=\"dataframe\">\n",
       "  <thead>\n",
       "    <tr style=\"text-align: right;\">\n",
       "      <th></th>\n",
       "      <th>Unnamed: 0</th>\n",
       "      <th>Symbol</th>\n",
       "      <th>Series</th>\n",
       "      <th>Date</th>\n",
       "      <th>Prev Close</th>\n",
       "      <th>Open Price</th>\n",
       "      <th>High Price</th>\n",
       "      <th>Low Price</th>\n",
       "      <th>Last Price</th>\n",
       "      <th>Close Price</th>\n",
       "      <th>Average Price</th>\n",
       "      <th>Total Traded Quantity</th>\n",
       "      <th>Turnover</th>\n",
       "      <th>No. of Trades</th>\n",
       "      <th>Deliverable Qty</th>\n",
       "      <th>% Dly Qt to Traded Qty</th>\n",
       "    </tr>\n",
       "  </thead>\n",
       "  <tbody>\n",
       "    <tr>\n",
       "      <th>0</th>\n",
       "      <td>0</td>\n",
       "      <td>INFOSYSTCH</td>\n",
       "      <td>EQ</td>\n",
       "      <td>03-Jan-2000</td>\n",
       "      <td>14467.75</td>\n",
       "      <td>15625.00</td>\n",
       "      <td>15625.20</td>\n",
       "      <td>15625.00</td>\n",
       "      <td>15625.20</td>\n",
       "      <td>15625.20</td>\n",
       "      <td>15625.18</td>\n",
       "      <td>5137</td>\n",
       "      <td>8.026657e+07</td>\n",
       "      <td>-</td>\n",
       "      <td>-</td>\n",
       "      <td>-</td>\n",
       "    </tr>\n",
       "    <tr>\n",
       "      <th>1</th>\n",
       "      <td>1</td>\n",
       "      <td>INFOSYSTCH</td>\n",
       "      <td>EQ</td>\n",
       "      <td>04-Jan-2000</td>\n",
       "      <td>15625.20</td>\n",
       "      <td>16800.00</td>\n",
       "      <td>16875.25</td>\n",
       "      <td>16253.00</td>\n",
       "      <td>16875.25</td>\n",
       "      <td>16855.90</td>\n",
       "      <td>16646.38</td>\n",
       "      <td>56186</td>\n",
       "      <td>9.352937e+08</td>\n",
       "      <td>-</td>\n",
       "      <td>-</td>\n",
       "      <td>-</td>\n",
       "    </tr>\n",
       "    <tr>\n",
       "      <th>2</th>\n",
       "      <td>2</td>\n",
       "      <td>INFOSYSTCH</td>\n",
       "      <td>EQ</td>\n",
       "      <td>05-Jan-2000</td>\n",
       "      <td>16855.90</td>\n",
       "      <td>15701.00</td>\n",
       "      <td>16250.00</td>\n",
       "      <td>15507.45</td>\n",
       "      <td>15507.45</td>\n",
       "      <td>15507.45</td>\n",
       "      <td>15786.38</td>\n",
       "      <td>164605</td>\n",
       "      <td>2.598516e+09</td>\n",
       "      <td>-</td>\n",
       "      <td>-</td>\n",
       "      <td>-</td>\n",
       "    </tr>\n",
       "    <tr>\n",
       "      <th>3</th>\n",
       "      <td>3</td>\n",
       "      <td>INFOSYSTCH</td>\n",
       "      <td>EQ</td>\n",
       "      <td>06-Jan-2000</td>\n",
       "      <td>15507.45</td>\n",
       "      <td>15256.65</td>\n",
       "      <td>15300.00</td>\n",
       "      <td>14266.85</td>\n",
       "      <td>14266.85</td>\n",
       "      <td>14266.85</td>\n",
       "      <td>14462.82</td>\n",
       "      <td>81997</td>\n",
       "      <td>1.185908e+09</td>\n",
       "      <td>-</td>\n",
       "      <td>-</td>\n",
       "      <td>-</td>\n",
       "    </tr>\n",
       "    <tr>\n",
       "      <th>4</th>\n",
       "      <td>4</td>\n",
       "      <td>INFOSYSTCH</td>\n",
       "      <td>EQ</td>\n",
       "      <td>07-Jan-2000</td>\n",
       "      <td>14266.85</td>\n",
       "      <td>13125.50</td>\n",
       "      <td>13125.50</td>\n",
       "      <td>13125.50</td>\n",
       "      <td>13125.50</td>\n",
       "      <td>13125.50</td>\n",
       "      <td>13125.50</td>\n",
       "      <td>7589</td>\n",
       "      <td>9.960942e+07</td>\n",
       "      <td>-</td>\n",
       "      <td>-</td>\n",
       "      <td>-</td>\n",
       "    </tr>\n",
       "  </tbody>\n",
       "</table>\n",
       "</div>"
      ],
      "text/plain": [
       "   Unnamed: 0      Symbol Series         Date  Prev Close  Open Price  \\\n",
       "0           0  INFOSYSTCH     EQ  03-Jan-2000    14467.75    15625.00   \n",
       "1           1  INFOSYSTCH     EQ  04-Jan-2000    15625.20    16800.00   \n",
       "2           2  INFOSYSTCH     EQ  05-Jan-2000    16855.90    15701.00   \n",
       "3           3  INFOSYSTCH     EQ  06-Jan-2000    15507.45    15256.65   \n",
       "4           4  INFOSYSTCH     EQ  07-Jan-2000    14266.85    13125.50   \n",
       "\n",
       "   High Price  Low Price  Last Price  Close Price  Average Price  \\\n",
       "0    15625.20   15625.00    15625.20     15625.20       15625.18   \n",
       "1    16875.25   16253.00    16875.25     16855.90       16646.38   \n",
       "2    16250.00   15507.45    15507.45     15507.45       15786.38   \n",
       "3    15300.00   14266.85    14266.85     14266.85       14462.82   \n",
       "4    13125.50   13125.50    13125.50     13125.50       13125.50   \n",
       "\n",
       "   Total Traded Quantity      Turnover No. of Trades Deliverable Qty  \\\n",
       "0                   5137  8.026657e+07             -               -   \n",
       "1                  56186  9.352937e+08             -               -   \n",
       "2                 164605  2.598516e+09             -               -   \n",
       "3                  81997  1.185908e+09             -               -   \n",
       "4                   7589  9.960942e+07             -               -   \n",
       "\n",
       "  % Dly Qt to Traded Qty  \n",
       "0                      -  \n",
       "1                      -  \n",
       "2                      -  \n",
       "3                      -  \n",
       "4                      -  "
      ]
     },
     "execution_count": 4,
     "metadata": {},
     "output_type": "execute_result"
    }
   ],
   "source": [
    "data = pd.read_csv(\"INFY20002008.csv\")\n",
    "data.head()"
   ]
  },
  {
   "cell_type": "code",
   "execution_count": 5,
   "id": "78946c07-7070-4d2f-840d-04710f643cfe",
   "metadata": {},
   "outputs": [
    {
     "name": "stdout",
     "output_type": "stream",
     "text": [
      "<class 'pandas.core.frame.DataFrame'>\n",
      "RangeIndex: 2496 entries, 0 to 2495\n",
      "Data columns (total 16 columns):\n",
      " #   Column                  Non-Null Count  Dtype  \n",
      "---  ------                  --------------  -----  \n",
      " 0   Unnamed: 0              2496 non-null   int64  \n",
      " 1   Symbol                  2496 non-null   object \n",
      " 2   Series                  2496 non-null   object \n",
      " 3   Date                    2496 non-null   object \n",
      " 4   Prev Close              2496 non-null   float64\n",
      " 5   Open Price              2496 non-null   float64\n",
      " 6   High Price              2496 non-null   float64\n",
      " 7   Low Price               2496 non-null   float64\n",
      " 8   Last Price              2496 non-null   float64\n",
      " 9   Close Price             2496 non-null   float64\n",
      " 10  Average Price           2496 non-null   float64\n",
      " 11  Total Traded Quantity   2496 non-null   int64  \n",
      " 12  Turnover                2496 non-null   float64\n",
      " 13  No. of Trades           2496 non-null   object \n",
      " 14  Deliverable Qty         2496 non-null   object \n",
      " 15  % Dly Qt to Traded Qty  2496 non-null   object \n",
      "dtypes: float64(8), int64(2), object(6)\n",
      "memory usage: 312.1+ KB\n"
     ]
    }
   ],
   "source": [
    "data.info()"
   ]
  },
  {
   "cell_type": "code",
   "execution_count": 7,
   "id": "4b653d0a-1ee6-46dc-ace3-985c13eb406a",
   "metadata": {},
   "outputs": [],
   "source": [
    "# we are going to use Average_price and Date for prediciton\n",
    "data = data[[\"Date\",\"Average Price\"]]"
   ]
  },
  {
   "cell_type": "raw",
   "id": "94fa7a64-a033-4b90-bf44-b6e4489d61ab",
   "metadata": {},
   "source": [
    "Let us now proceed with scaling the values and splitting the data set in train and test portions. Remember don't shuffle the dataset while splitting. It should be split following a sequence."
   ]
  },
  {
   "cell_type": "code",
   "execution_count": 8,
   "id": "1686c357-22e0-4113-9a33-d9749b73d6f1",
   "metadata": {},
   "outputs": [
    {
     "name": "stdout",
     "output_type": "stream",
     "text": [
      "Number of entries (training set, test set): (1872, 624)\n"
     ]
    }
   ],
   "source": [
    "# scaling the values in the range of 0 to 1\n",
    "scaler=MinMaxScaler(feature_range=(0,1))\n",
    "scaled_price = scaler.fit_transform(data.loc[:,'Average Price'].values.reshape(-1,1))\n",
    "\n",
    "# Splitting the dataset into 75:25 ratio for training and test\n",
    "train_size =int(data.shape[0]*0.75)\n",
    "train,test = scaled_price[0:train_size,:], scaled_price[train_size:data.shape[0],:]\n",
    "print(\"Number of entries (training set, test set): \" + str((len(train), len(test))))"
   ]
  },
  {
   "cell_type": "raw",
   "id": "df6fd87f-a277-442e-bfb7-a65953e0235a",
   "metadata": {},
   "source": [
    "Next, we need to construct a data set from the array of Average Price values along with defining a window size. Window is used to define how many values need to be taken while forecasting the new value. By default, in the function, we set the window size as 1, however, while constructing the data set, we set the window size to 3. You can change it and observe the corresponding effect on the forecasted value."
   ]
  },
  {
   "cell_type": "code",
   "execution_count": 11,
   "id": "95f9a793-3758-4b8c-b8a1-57342e3e58a6",
   "metadata": {},
   "outputs": [],
   "source": [
    "# creating dataset\n",
    "def create_dataset(scaled_price, window_size=1):\n",
    "    data_X, data_Y=[],[]\n",
    "    for i in range(len(scaled_price)-window_size-1):\n",
    "        a = scaled_price[i:(i+window_size),0]\n",
    "        data_X.append(a)\n",
    "        data_Y.append(scaled_price[i+window_size,0])\n",
    "    return(np.array(data_X),np.array(data_Y))"
   ]
  },
  {
   "cell_type": "raw",
   "id": "d1fcaa9d-bda7-4595-afbd-1dde4c349ff4",
   "metadata": {},
   "source": [
    "we call the fucntion and reset the dataset to make it fit for keras"
   ]
  },
  {
   "cell_type": "code",
   "execution_count": 12,
   "id": "4afed1fe-97b5-4993-a67d-7cc600b6592f",
   "metadata": {},
   "outputs": [
    {
     "name": "stdout",
     "output_type": "stream",
     "text": [
      "original training datashape\n",
      "(1868, 3)\n",
      "New training data shape:\n",
      "(1868, 1, 3)\n"
     ]
    }
   ],
   "source": [
    "# create training and test set for one-step-ahead regression\n",
    "window_size =3\n",
    "train_X,train_Y = create_dataset(train,window_size)\n",
    "test_X,test_Y =create_dataset(test,window_size)\n",
    "print(\"original training datashape\")\n",
    "print(train_X.shape)\n",
    "\n",
    "# reshaping the input data into appropriate form for keras\n",
    "train_X = np.reshape(train_X, (train_X.shape[0], 1, train_X.shape[1]))\n",
    "test_X = np.reshape(test_X, (test_X.shape[0], 1, test_X.shape[1]))\n",
    "print(\"New training data shape:\")\n",
    "print(train_X.shape)"
   ]
  },
  {
   "cell_type": "raw",
   "id": "67156479-16c4-40bd-812a-0408fa20476d",
   "metadata": {},
   "source": [
    "Now, we design our LSTM network with four blocks and just one layer using the MSE as loss function with three epochs."
   ]
  },
  {
   "cell_type": "code",
   "execution_count": 17,
   "id": "df424c51-ef3e-43e9-9e66-1826cfebff6e",
   "metadata": {},
   "outputs": [
    {
     "name": "stderr",
     "output_type": "stream",
     "text": [
      "C:\\Users\\hp\\AppData\\Local\\Programs\\Python\\Python312\\Lib\\site-packages\\keras\\src\\layers\\rnn\\rnn.py:199: UserWarning: Do not pass an `input_shape`/`input_dim` argument to a layer. When using Sequential models, prefer using an `Input(shape)` object as the first layer in the model instead.\n",
      "  super().__init__(**kwargs)\n"
     ]
    },
    {
     "name": "stdout",
     "output_type": "stream",
     "text": [
      "Epoch 1/3\n",
      "\u001b[1m1868/1868\u001b[0m \u001b[32m━━━━━━━━━━━━━━━━━━━━\u001b[0m\u001b[37m\u001b[0m \u001b[1m6s\u001b[0m 2ms/step - loss: 0.0131\n",
      "Epoch 2/3\n",
      "\u001b[1m1868/1868\u001b[0m \u001b[32m━━━━━━━━━━━━━━━━━━━━\u001b[0m\u001b[37m\u001b[0m \u001b[1m4s\u001b[0m 2ms/step - loss: 4.3574e-04\n",
      "Epoch 3/3\n",
      "\u001b[1m1868/1868\u001b[0m \u001b[32m━━━━━━━━━━━━━━━━━━━━\u001b[0m\u001b[37m\u001b[0m \u001b[1m4s\u001b[0m 2ms/step - loss: 2.1619e-04\n"
     ]
    },
    {
     "data": {
      "text/plain": [
       "<keras.src.callbacks.history.History at 0x1ce6a1bfce0>"
      ]
     },
     "execution_count": 17,
     "metadata": {},
     "output_type": "execute_result"
    }
   ],
   "source": [
    "#Designing the LSTM model\n",
    "model = Sequential()\n",
    "model.add(LSTM(4, input_shape=(1,window_size)))\n",
    "model.add(Dense(1))\n",
    "\n",
    "#Compiling the model\n",
    "model.compile(loss='mean_squared_error',optimizer='adam')\n",
    "\n",
    "# trainig the model\n",
    "model.fit(train_X,train_Y,epochs=3,batch_size=1)"
   ]
  },
  {
   "cell_type": "markdown",
   "id": "5bfe284e-5257-4095-ae58-8d93a76c5818",
   "metadata": {},
   "source": [
    "# Forecasting and visualisation"
   ]
  },
  {
   "cell_type": "code",
   "execution_count": 18,
   "id": "69125e38-4e82-44c8-b3f3-5bb4b4c9577d",
   "metadata": {},
   "outputs": [
    {
     "name": "stdout",
     "output_type": "stream",
     "text": [
      "\u001b[1m59/59\u001b[0m \u001b[32m━━━━━━━━━━━━━━━━━━━━\u001b[0m\u001b[37m\u001b[0m \u001b[1m1s\u001b[0m 6ms/step\n",
      "\u001b[1m20/20\u001b[0m \u001b[32m━━━━━━━━━━━━━━━━━━━━\u001b[0m\u001b[37m\u001b[0m \u001b[1m0s\u001b[0m 3ms/step \n",
      "Training data score: 272.99 RMSE\n",
      "Test data score: 121.13 RMSE\n"
     ]
    }
   ],
   "source": [
    "def predict_and_score(model,X,Y):\n",
    "    \n",
    "    #make predictions on the original scale of the data\n",
    "    pred = scaler.inverse_transform(model.predict(X))\n",
    "    \n",
    "    #make Y data to be on the original scale of predicitibility\n",
    "    orig_data=scaler.inverse_transform([Y])\n",
    "    \n",
    "    #calculate RMSE\n",
    "    score = np.sqrt(mean_squared_error(orig_data[0],pred[:,0]))\n",
    "    return(score,pred)\n",
    "\n",
    "rmse_train, train_predict = predict_and_score(model,train_X,train_Y)\n",
    "rmse_test, test_predict = predict_and_score(model,test_X,test_Y)\n",
    "\n",
    "print(\"Training data score: %.2f RMSE\" % rmse_train)\n",
    "print(\"Test data score: %.2f RMSE\" % rmse_test)"
   ]
  },
  {
   "cell_type": "code",
   "execution_count": 19,
   "id": "b2f8ccf5-340a-4489-a711-9fd273dd8966",
   "metadata": {},
   "outputs": [
    {
     "data": {
      "image/png": "[encoded data removed]",
      "text/plain": [
       "<Figure size 1500x500 with 1 Axes>"
      ]
     },
     "metadata": {},
     "output_type": "display_data"
    }
   ],
   "source": [
    "# Initiating with training predictions.\n",
    "train_predict_plot = np.empty_like(scaled_price)\n",
    "train_predict_plot[:, :] = np.nan\n",
    "train_predict_plot[window_size:len(train_predict) + window_size, :] = train_predict\n",
    "# Adding test predictions.\n",
    "test_predict_plot = np.empty_like(scaled_price)\n",
    "test_predict_plot[:, :] = np.nan\n",
    "test_predict_plot[len(train_predict) + (window_size * 2) + 1:len(scaled_price) - 1, :] = test_predict\n",
    "# creating the plot\n",
    "plt.figure(figsize=(15,5))\n",
    "plt.plot(scaler.inverse_transform(scaled_price), label = \"True value\")\n",
    "plt.plot(train_predict_plot, label = \"Training set prediction\")\n",
    "plt.plot(test_predict_plot, label = \"Test set prediction\")\n",
    "plt.xlabel(\"Days\")\n",
    "plt.ylabel(\"Average Price\")\n",
    "plt.title(\"Comparison true vs. predicted training / test\")\n",
    "plt.legend()\n",
    "plt.show()"
   ]
  },
  {
   "cell_type": "raw",
   "id": "9c40a71a-7b7b-4704-93de-88aebf7ae257",
   "metadata": {},
   "source": [
    "As you can observe just with four LSTM blocks and three epochs, the results are quite astonishing. However, mostly this is due to overfitting which can be reduced by adding Dropout layer in the network design and tuning basic hyperparameters."
   ]
  }
 ],
 "metadata": {
  "kernelspec": {
   "display_name": "Python 3 (ipykernel)",
   "language": "python",
   "name": "python3"
  },
  "language_info": {
   "codemirror_mode": {
    "name": "ipython",
    "version": 3
   },
   "file_extension": ".py",
   "mimetype": "text/x-python",
   "name": "python",
   "nbconvert_exporter": "python",
   "pygments_lexer": "ipython3",
   "version": "3.12.10"
  }
 },
 "nbformat": 4,
 "nbformat_minor": 5
}
